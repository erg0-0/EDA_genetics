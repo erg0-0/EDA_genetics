{
 "cells": [
  {
   "cell_type": "code",
   "execution_count": null,
   "metadata": {},
   "outputs": [],
   "source": [
    "import os\n",
    "import sys\n",
    "import pandas as pd\n",
    "\n",
    "while os.path.basename(os.getcwd()) != \"group_8\": os.chdir(\"..\")\n",
    "project_dir = os.getcwd()\n",
    "sys.path.append(os.path.join(project_dir, \"src\"))\n",
    "\n",
    "from utils.data_preparation import (\n",
    "    preprocess_data,\n",
    "    data_connection,\n",
    "    find_patho_genes_df,\n",
    "    binarizee,\n",
    "    selected_genes\n",
    ")\n",
    "from utils.statistical_tests import (\n",
    "    matrix_fisher,\n",
    "    matrix_chi2,\n",
    "    create_model_matrix\n",
    ")\n",
    "from utils.visualisation import generate_heatmap\n",
    "from models.model_teeth import (\n",
    "    prepare_data_for_model_teeth,\n",
    "    train_test_random_forest_with_undersampling\n",
    ")\n",
    "from models.model_cleft import XGBoost_model\n",
    "\n",
    "input_path=(os.path.abspath(os.path.join(project_dir,\"..\", 'local_files')))\n",
    "output_path=input_path\n",
    "data_connection(input_path, output_path)\n",
    "save_dir = os.path.join(project_dir, 'src', 'visualisation')\n",
    "\n",
    "import warnings\n",
    "warnings.simplefilter(action='ignore', category=FutureWarning)\n",
    "\n",
    "df = pd.read_csv(os.path.abspath(os.path.join(project_dir, \"..\", 'local_files', 'genetics.csv')))"
   ]
  },
  {
   "cell_type": "code",
   "execution_count": null,
   "metadata": {},
   "outputs": [],
   "source": [
    "df = preprocess_data(df)\n",
    "all_filters_df = find_patho_genes_df(df, MHD_min3=True, freq_threshold=0.05, silent_mutation=False, malicious=True)"
   ]
  },
  {
   "cell_type": "code",
   "execution_count": null,
   "metadata": {},
   "outputs": [],
   "source": [
    "selected_genes_teeth = selected_genes(all_filters_df, df, illness=\"teeth\")\n",
    "selected_genes_cleft = selected_genes(all_filters_df, df, illness=\"cleft\")"
   ]
  },
  {
   "cell_type": "code",
   "execution_count": null,
   "metadata": {},
   "outputs": [],
   "source": [
    "generate_heatmap(all_filters_df, df, selected_genes_teeth, selected_genes_cleft, save_dir=save_dir, illness=\"teeth\")\n",
    "generate_heatmap(all_filters_df, df, selected_genes_teeth, selected_genes_cleft, save_dir=save_dir, illness=\"cleft\")"
   ]
  },
  {
   "cell_type": "code",
   "execution_count": null,
   "metadata": {},
   "outputs": [],
   "source": [
    "model_matrix_teeth = create_model_matrix(all_filters_df, df, selected_genes_teeth, selected_genes_cleft, illness=\"teeth\")\n",
    "model_matrix_cleft = create_model_matrix(all_filters_df, df, selected_genes_teeth, selected_genes_cleft, illness=\"cleft\")"
   ]
  },
  {
   "cell_type": "code",
   "execution_count": null,
   "metadata": {},
   "outputs": [],
   "source": [
    "binmatrix_teeth = binarizee(all_filters_df, df, illness = \"teeth\")\n",
    "binmatrix_cleft = binarizee(all_filters_df, df, illness = \"cleft\")\n",
    "\n",
    "above_0_matrix_teeth = binmatrix_teeth[(binmatrix_teeth['control_with_pathogenic']>0)&(binmatrix_teeth['teeth_with_pathogenic']>0)]\n",
    "above_0_matrix_cleft = binmatrix_cleft[(binmatrix_cleft['control_with_pathogenic']>0)&(binmatrix_cleft['cleft_with_pathogenic']>0)]\n",
    "\n",
    "matrix_chi2_teeth_df = matrix_chi2(above_0_matrix_teeth, target_name=\"braki zębowe\" )\n",
    "matrix_chi2_cleft_df = matrix_chi2(above_0_matrix_cleft, target_name=\"rozszczepy\" )\n",
    "matrix_fisher_teeth_df = matrix_fisher(binmatrix_teeth, target_name=\"braki zębowe\", method = 'hommel' )\n",
    "matrix_fisher_cleft_df = matrix_fisher(binmatrix_cleft, target_name=\"rozszczepy\", method = 'hommel' )\n",
    "\n",
    "filtered_chi2_teeth = matrix_chi2_teeth_df.loc[matrix_chi2_teeth_df['teeth_chi2_p-value_0.05'] < 0.05, ['Gene_Name']]\n",
    "filtered_chi2_cleft = matrix_chi2_cleft_df.loc[matrix_chi2_cleft_df['cleft_chi2_p-value_0.05'] < 0.05, ['Gene_Name']]\n",
    "filtered_fisher_cleft = matrix_fisher_cleft_df.loc[matrix_fisher_cleft_df['cleft_fisher_p-value_0.05'] < 0.05, ['Gene_Name']]\n",
    "filtered_fisher_teeth = matrix_fisher_teeth_df.loc[matrix_fisher_teeth_df['teeth_fisher_p-value_0.05'] < 0.05, ['Gene_Name']]"
   ]
  },
  {
   "cell_type": "code",
   "execution_count": null,
   "metadata": {},
   "outputs": [],
   "source": [
    "teeth_base = prepare_data_for_model_teeth(df)\n",
    "train_test_random_forest_with_undersampling(teeth_base, save_dir,random_seed=42)"
   ]
  },
  {
   "cell_type": "code",
   "execution_count": null,
   "metadata": {},
   "outputs": [],
   "source": [
    "XGBoost_model(model_matrix_cleft, save_dir)"
   ]
  }
 ],
 "metadata": {
  "kernelspec": {
   "display_name": "group8",
   "language": "python",
   "name": "python3"
  },
  "language_info": {
   "codemirror_mode": {
    "name": "ipython",
    "version": 3
   },
   "file_extension": ".py",
   "mimetype": "text/x-python",
   "name": "python",
   "nbconvert_exporter": "python",
   "pygments_lexer": "ipython3",
   "version": "3.11.0"
  }
 },
 "nbformat": 4,
 "nbformat_minor": 2
}
