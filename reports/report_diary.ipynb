{
 "cells": [
  {
   "cell_type": "markdown",
   "metadata": {},
   "source": [
    "### Basic facts:\n",
    "1. **23** columns and **757.976** rows\n",
    "2. **271** unique sample IDs in the dataset.\n",
    "3. **444** unique Gene Names and **19004** unique Variant Ids\n",
    "4. There are **4** types of patogenic variants: *['Wariant o nieznanej patogennosci', 'Wariant potencjalnie lagodny',\n",
    "       'Wariant lagodny', 'Wariant potencjalnie patogenny',\n",
    "       'Wariant patogenny']*\n",
    "5. There are 3 classes to predict: **'braki zębowe' (1), 'rozszczepy' (2), 'kontrole' (0)**.\n",
    "\n"
   ]
  },
  {
   "cell_type": "markdown",
   "metadata": {},
   "source": [
    "## Silent mutations\n",
    "\n",
    "- Silent mutations have low impact on patogenicity therefore will be removed.\n",
    "\n",
    "- Original dateset shape is: 757976 rows\n",
    "- Silent mutations shape is: 705564 rows,93.0% of all dataset.\n",
    "- Non silent mutations shape is: 52412 rows, 7.0% of all dataset"
   ]
  },
  {
   "cell_type": "markdown",
   "metadata": {},
   "source": [
    "**Number of patients 271**\n",
    "\n",
    "#### Original dataset \n",
    "\n",
    "Number of patients per each patogenic variant\n",
    "- Patogennosc\n",
    "- Wariant lagodny                     271\n",
    "- Wariant o nieznanej patogennosci    271\n",
    "- Wariant patogenny                   258\n",
    "- Wariant potencjalnie lagodny        271\n",
    "- Wariant potencjalnie patogenny      270\n",
    "- *Name: sample_ID, dtype: int64*\n",
    "\n",
    "#### Only silent mutations \n",
    "Number of patients per each patogenic variant for only silent mutations\n",
    "- Patogennosc\n",
    "- Wariant lagodny                     271\n",
    "- Wariant o nieznanej patogennosci    271\n",
    "- Wariant patogenny                    34\n",
    "- Wariant potencjalnie lagodny        271\n",
    "- Wariant potencjalnie patogenny       34\n",
    "- *Name: sample_ID, dtype: int64*\n",
    "\n",
    "1. Conclusions: There is 34 patients with patogenic variant which are excluded due to silent mutations filter. \n",
    "2. Question: should we include them into the model?"
   ]
  },
  {
   "cell_type": "markdown",
   "metadata": {},
   "source": [
    "# Variant Mild vs Maliscious "
   ]
  },
  {
   "cell_type": "markdown",
   "metadata": {},
   "source": [
    "- Mild variants shape has: 50498 rows\n",
    "- Malicious variants shape has: 1914 rows"
   ]
  },
  {
   "cell_type": "markdown",
   "metadata": {},
   "source": [
    "mild variants overview / numnber of patients\n",
    "- target        Patogennosc                     \n",
    "- **braki zębowe**\n",
    "- Wariant lagodny                      66\n",
    "- Wariant o nieznanej patogennosci     66\n",
    "- Wariant potencjalnie lagodny         66\n",
    "- **kontrole**    \n",
    "- Wariant lagodny                     127\n",
    "- Wariant o nieznanej patogennosci    127\n",
    "- Wariant potencjalnie lagodny        127\n",
    "- **rozszczepy**\n",
    "- Wariant lagodny                      78\n",
    "- Wariant o nieznanej patogennosci     78\n",
    "- Wariant potencjalnie lagodny         78"
   ]
  },
  {
   "cell_type": "markdown",
   "metadata": {},
   "source": [
    "# Zygosity \n",
    "\n",
    "heterozygota 429424 (56,65%)\n",
    "homozygota 328552 (43,34%)\n",
    "łącznie 757976\n"
   ]
  },
  {
   "cell_type": "markdown",
   "metadata": {},
   "source": [
    "# Frequency\n",
    "###  Variants that occur in european population with frequency higher than 1 %  (1000gp_EUR_freq) \n",
    "\n",
    "1. Original dataset:\n",
    "- For the whole data set with  757976 rows this column contain 76.149 missing values.\n",
    "- Rows with Nan: 76149\n",
    "- % of rows with Nan: 0.10046360306922647%\n",
    "\n",
    "2. Dataset with silent mutations excluded:\n",
    "-   This changes after focusing on the subset of data which excludes silent mutation. Then the dataset contains just 1914 rows and % of NaN values rises till 72%. \n",
    "-  All rows: 1914\n",
    "- Rows with Nan: 1374\n",
    "- % of rows with Nan: 0.7178683385579937%\n",
    "- Question: does this column brings any analytical value to the analysis? \n",
    "- We decide to ignore and not filter out these rows. The information about the frequency 1% will be stored in additional column."
   ]
  },
  {
   "cell_type": "markdown",
   "metadata": {},
   "source": [
    "If we decided to exclude rows with frequency above X percent this is the number of rows for the datase:"
   ]
  },
  {
   "cell_type": "markdown",
   "metadata": {},
   "source": [
    "0.01: Shape: (342, 29)\n",
    "\n",
    "0.02: Shape: (358, 29)\n",
    "\n",
    "0.05: Shape: (364, 29)\n",
    "\n",
    "0.2: Shape: (382, 29)\n",
    "\n",
    "0.5: Shape: (540, 29)"
   ]
  },
  {
   "cell_type": "markdown",
   "metadata": {},
   "source": [
    "Conclusion: 70% of rows in 1000gp_EUR_freq has null valus. \n",
    "\n",
    "Excluding 1% or 20 % of freqent genomic variants rsults in a difference of 40 rows."
   ]
  },
  {
   "cell_type": "markdown",
   "metadata": {},
   "source": [
    "Conclusion: During the project the column has been populated with NaN values and we came to the conclusion that the assumption could be changed to populating it with 0 instead. Missing value means there gene is not popular in the population and therefore exists a valid argument to include the lines in the analysis."
   ]
  },
  {
   "cell_type": "markdown",
   "metadata": {},
   "source": [
    "Wplyw na preprocessed dataset\n",
    "- Percentage: 0.01, number of rows: 3913, this makes: 0.5162432583617423 % of all dataset\n",
    "- Percentage: 0.02, number of rows: 4123, this makes: 0.5439486210645191 % of all dataset\n",
    "- Percentage: 0.03, number of rows: 4294, this makes: 0.5665087021224946 % of all dataset\n",
    "- Percentage: 0.04, number of rows: 4414, this makes: 0.5823403379526528 % of all dataset\n",
    "- Percentage: 0.05, number of rows: 4592, this makes: 0.6058239311007209 % of all dataset"
   ]
  },
  {
   "cell_type": "markdown",
   "metadata": {},
   "source": [
    "# Selected Genes"
   ]
  },
  {
   "cell_type": "markdown",
   "metadata": {},
   "source": [
    "After performing the chi2 and fischer exact test only the following genes have been noted as statistically important. After corrected multiple test only 1 gene occurred to be statistically important. WNT10A"
   ]
  },
  {
   "cell_type": "markdown",
   "metadata": {},
   "source": [
    "Gene_Name Teeth\n",
    "48\tJAG2\n",
    "54\tLRP6\n",
    "60\tPAK1IP1\n",
    "50\tCOL9A2\n",
    "70\tEDA\n",
    "143\tLRP4\n",
    "145\tLTBP3\n",
    "225\tTBX3\n",
    "226\tTCIRG1\n",
    "243\tWNT10A"
   ]
  },
  {
   "cell_type": "markdown",
   "metadata": {},
   "source": [
    "Gene Name Cleft: \n",
    "3\tAPC\n",
    "67\tMYH9\n",
    "124\tIRF6\n",
    "243\tWNT10A"
   ]
  },
  {
   "cell_type": "markdown",
   "metadata": {},
   "source": [
    "# Input for data modelling\n",
    "\n",
    "Objaśnienia:\n",
    "all_filters_df = zestaw przefiltrowanych wierszy (mozna zmienic)\n",
    "x (features) = wybierz kolumny, które chcesz uwzględnić w swoim modelu ręcznie\n",
    "y (target) = target to kolumna target_num. Znaczenie 1 = braki zebowe , 0 - kontrole, 2 - rozszczepy\n",
    "\n",
    "Wyjaśnienie kolumn:\n",
    "- MHD count - liczba dostepnych metryk, wartosci 3-6\n",
    "- MHD_min3 - czy sa minimum 3 metryki: wartosc 1 tak, 0 nie\n",
    "- frequency1% - czy czestotliwosc w populacji jest powyzej 1%, wartosc 1 tak, 0 nie\n",
    "- reference_amino_acid - bialko przed mutacja\n",
    "- mutated amino acid - bialko po mutacji\n",
    "- is silent mutation - wartosc 1 Tak, 0 nie\n",
    "- is_maliscious - 1 - tak (wariant patogenny i wariant potencjalnie patogenny, wariant o nieznanej patogennosci), 0-wariant lagodny i wariant potencjalnie lagodny\n",
    "- is_homozygot - 1 tak, 0 nie\n",
    "- is_pathogenic - 1 tak, 0 nie, jest to uznaniowe, zakladamy ze dane przefiltrowane sa patogenne i moga zawierac szum"
   ]
  },
  {
   "cell_type": "markdown",
   "metadata": {},
   "source": [
    "# Correlation\n",
    "\n",
    "1. Kolumny o wysokiej korelacji z targetem powinny byc usuniete. \"Control_without_pathogenic\" wykazuje wysoką negatywną korelację."
   ]
  },
  {
   "cell_type": "markdown",
   "metadata": {},
   "source": [
    "# Dummy Classifier \n",
    "\n",
    "Wnioski:\n",
    "1. Do modelu Dummy Classifier uzyto 2 datasetow:\n",
    "    - base_teeth z features: ['Gene_Name_encoded', 'teeth_with_pathogenic', 'teeth_without_pathogenic', 'control_with_pathogenic', 'target_num']\n",
    "    - base_cleft z features: ['Gene_Name_encoded', 'cleft_with_pathogenic', 'cleft_without_pathogenic', 'control_with_pathogenic', 'target_num']\n",
    "\n",
    "2. W prostym zastosowaniu ze strategia strategy='most_frequent' F1-Score wyniosl 0 (najgorzej)\n",
    "3. W drugim eksperymencie ze strategia strategy='stratified' wynik poprawil się dzięki zbalansowaniu klas. \n",
    "    - F1-Score for Teeth: 0.4692737430167598\n",
    "    - F1-Score for Cleft: 0.37500000000000006\n",
    "4. W trzecim eksperymencie F1 score zostal obliczony z pomoca funkcji: precision_recall_fscore_support(y_test, y_pred, labels=[0, 1], average='binary'). Wynik tutaj byl nabardziej zblizony do losowego.\n",
    "    - F1-Score for Teeth: 0.4999999999999999\n",
    "    - F1-Score for Cleft: 0.4926108374384237\n",
    " "
   ]
  },
  {
   "cell_type": "markdown",
   "metadata": {},
   "source": [
    "# Data Leak"
   ]
  },
  {
   "cell_type": "markdown",
   "metadata": {},
   "source": [
    "Poczatkowo uwzględnilam kolumny oznaczajace kohorty wyznaczone przez testy statystyczne \"teeth_with_pathogenic\" itd. Uwzględnienie tych kolumn prowadzilo kazdorazowo do przeuczenia modelu i 100% wynikow.\n",
    "\n",
    "Powodem byl wyciek danych, do stworzenia tych kohort uzywana byla informacja na temat choroby w formie tekstowej \"cleft, teeth lub controls\". \n"
   ]
  },
  {
   "cell_type": "markdown",
   "metadata": {},
   "source": [
    "### przyklad 1"
   ]
  },
  {
   "cell_type": "markdown",
   "metadata": {},
   "source": [
    "Przyklad: \n",
    "Model 1:\n",
    "Random forest, cross validation, train_test_split 70%\n",
    "\n",
    "Dataset: teeth\n",
    "\n",
    "Kolumny: wszystkie dotepne w teeth_base (standarowe + z testow statystycznych)\n",
    "\n",
    "Wnioski:\n",
    "1. Random Forest natychmiast sie przeuczyl.  \n",
    "2. Moze przyczynila sie do tego cross validacja? \n",
    "3. 3 drzewa decyzyjne (n_estimator) wystarczaja by osiagnac f1 score 100%.\n",
    "4. Najwazniejsze features to \"Teeth_without_pathogenic\" , Control with pathogenic\n",
    "5. Nastepny krok: usuniecie cross validation.\n",
    "\n",
    "Classification Report:\n",
    "              precision    recall  f1-score   support\n",
    "\n",
    "           0       1.00      1.00      1.00       120\n",
    "           1       1.00      1.00      1.00       100\n",
    "\n",
    "    accuracy                           1.00       220\n",
    "   macro avg       1.00      1.00      1.00       220\n",
    "weighted avg       1.00      1.00      1.00       220"
   ]
  },
  {
   "cell_type": "markdown",
   "metadata": {},
   "source": [
    "## przyklad 2"
   ]
  },
  {
   "cell_type": "markdown",
   "metadata": {},
   "source": [
    "Model 2 : random Forest\n",
    "Parametry modelu: RandomForestClassifier(n_estimators=2, max_depth=2, min_samples_split=2, min_samples_leaf=1, max_features='sqrt', random_state=42) \n",
    "\n",
    "Kolumny = wszystkie dsotepne\n",
    "\n",
    "Wnioski:\n",
    "1. przy usunieciu cross validacji oraz redukcji parametrow modelu do 2 drzew decyzyjnych model od razu sie przeuczyl.\n",
    "2. Drzewa przewidzialy wyniki na podstawie tylko dwoch featerow: teeth without pathogenic oraz control with pathogenic.\n",
    "3. Najprawdopodobniej doszlo do data leakage, obie te kolumny powstaly w oparciu o znajomosc grupy targetowej.\n",
    "4. Nastepny krok: usuniecie kolumn pochodzacych z testow statystycznych. \n",
    "\n",
    "Classification Report:\n",
    "              precision    recall  f1-score   support\n",
    "\n",
    "           0       1.00      1.00      1.00       120\n",
    "           1       1.00      1.00      1.00       100\n",
    "\n",
    "    accuracy                           1.00       220\n",
    "   macro avg       1.00      1.00      1.00       220\n",
    "weighted avg       1.00      1.00      1.00       220"
   ]
  },
  {
   "cell_type": "markdown",
   "metadata": {},
   "source": [
    "# Uwzglednienie wynikow testow statystycznych"
   ]
  },
  {
   "cell_type": "markdown",
   "metadata": {},
   "source": [
    "W modelu wyniki zostaly uwzglednione poprzez redukcje szumu i trenowanie modelu na grupie wybranych selektywnie genów, które mogą miec potencjalnie wpływ na chorobę.\n",
    "\n",
    "Kohorty nie powinny byc uwzgledniane w modelu.\n"
   ]
  },
  {
   "cell_type": "markdown",
   "metadata": {},
   "source": [
    "# Stratify\n",
    "\n",
    "Uwzglednienie stratyfikacji znaczaco podnosi wyniki nawet dla modelu DummyClassifier!\n",
    "\n",
    "Powod: \n",
    "niska reprezentatywnosc klasy chorej i niezbalansowany dataset wskazuje na koniecznosc stosowania dodatkowych technik pod tym katem."
   ]
  },
  {
   "cell_type": "markdown",
   "metadata": {},
   "source": [
    "# Random Forest\n",
    "\n",
    "### Model nr 3: \n",
    "\n",
    "Paramtry modelu:\n",
    "rf_classifier = RandomForestClassifier(n_estimators=2, max_depth=2, min_samples_split=2, min_samples_leaf=1, max_features='sqrt', random_state=42)\n",
    "Kolumny: tylko ostandardowe z pominieciem kolumn z testow statystycznych.\n",
    "\n",
    "Wniosek: \n",
    "1. po wykluczeniu kolumn z testow statystycznych i zastosowaniu modelu z tylko dwoma drzewami decyzyjnymi widac bardziej realistyczne wyniki.\n",
    "2. Precyzja predykcji choroby wynosi 0.52, ale ilosc false negative jest na bardzo niskim poziomie (recall 5%)\n",
    "3. Najwyzsza wartosc predykcyjna ma kolumna Pos (Pozycja na chromosomie gen oraz informacje na temat bialka)\n",
    "4. W kolejnym eksperymencie  zwieksze liczbe drzew i glebokosc. Aktualnie jedynie kilka featerow ma duza wartosc predykcyjna.\n",
    "\n",
    "Classification Report:\n",
    "              precision    recall  f1-score   support\n",
    "\n",
    "           0       0.55      0.97      0.70       120\n",
    "           1       0.56      0.05      0.09       100\n",
    "\n",
    "    accuracy                           0.55       220\n",
    "   macro avg       0.55      0.51      0.40       220\n",
    "weighted avg       0.55      0.55      0.42       220\n"
   ]
  },
  {
   "cell_type": "markdown",
   "metadata": {},
   "source": [
    "### Model nr 4: Random Forest Classifier\n",
    "Kolumny: wszystkie oprocz tych z testow statystycznych.\n",
    "\n",
    "Parametry modelu\n",
    "rf_classifier = RandomForestClassifier(n_estimators=1000, max_depth=3, min_samples_split=2, min_samples_leaf=2, max_features='sqrt', random_state=42)\n",
    "test train split  - stratify\n",
    "\n",
    "Wnioski:\n",
    "1. Usuniecie kolumn z testow statystycznych (teeth_with_pathogenic, teeth_without_pathogenic, control_with_pathogenic, control_withoout_pathogenic) podnioslo wage pozostalych featerow.\n",
    "2. random forest nawet w opcji \"stratified\" radzi sobie dobrze jesli chodzi o precision lecz bardzo zle w kwestii Recall, tym samym F1 score nie jest zbyt wysoki 11% dla klasy chorej i powyzej 70% dla klasy zdrowej. Tym samym model zle prognozuje klase chora.\n",
    "3. Zastosowanie cross validacji nie wiele w tej kwestii zmienia, podobnie zmiana parametrow modelu z 2 do 1000 drzew oraz zmiany glebokosci i ilosci samples na lisciach.\n",
    "4. Nastapila istotna zmiana waznosci featerow. Model nauczyl sie istotnosci genu dla predykcji.\n",
    "5. Kolejne kroki: nalezy zbalansowac klasy, dodac kolumne oznaczonych genow istotnych statystycznie.\n",
    "\n",
    "Classification Report:\n",
    "              precision    recall  f1-score   support\n",
    "\n",
    "           0       0.57      0.91      0.70       127\n",
    "           1       0.33      0.06      0.11        93\n",
    "\n",
    "    accuracy                           0.55       220\n",
    "   macro avg       0.45      0.49      0.40       220\n",
    "weighted avg       0.47      0.55      0.45       220"
   ]
  },
  {
   "cell_type": "markdown",
   "metadata": {},
   "source": [
    "## Zastosowanie SMOTE()\n",
    "\n",
    "Model nr 5: Random Forest\n",
    "Parametry: rf_classifier = RandomForestClassifier(n_estimators=1000, max_depth=6, min_samples_split=2, min_samples_leaf=2, max_features='sqrt', random_state=42)\n",
    "cross validation: nie\n",
    "stratify = nie\n",
    "\n",
    "imbalanced class methods : tak, SMOTE\n",
    "\n",
    "Wnioski:\n",
    "1. Model po zastosowaniu SMOTE znaczaco sie poprawil. PRedykcja dla klasy chorej zwiekszyla sie z 5% do 60%.\n",
    "2. zwiekszanie ilosci drzew do 1000  nie daje objektywnego zwiekszenia poprawnosci predykcji.\n",
    "3. Nastepne kroki: warto sprawdzic inny model klasyfikacyjny i rozne metody balansowania klas. \n",
    "4. Oversampling nie jest dobrze widziany przez mentora\n",
    "\n",
    "Classification Report:\n",
    "              precision    recall  f1-score   support\n",
    "\n",
    "           0       0.61      0.65      0.63       125\n",
    "           1       0.64      0.60      0.62       130\n",
    "\n",
    "    accuracy                           0.62       255\n",
    "   macro avg       0.62      0.62      0.62       255\n",
    "weighted avg       0.62      0.62      0.62       255"
   ]
  },
  {
   "cell_type": "markdown",
   "metadata": {},
   "source": [
    "### Najlepszy model dla teeth"
   ]
  },
  {
   "cell_type": "markdown",
   "metadata": {},
   "source": [
    "1. Model z najlepszymi wynikami to:\n",
    "\n",
    "    rf_classifier = RandomForestClassifier(n_estimators=1000, max_depth=6, min_samples_split=2, min_samples_leaf=2, max_features='sqrt', random_state=42)\n",
    "2. Wyniki sa lepsze niz przypadkowe w przypadku:\n",
    "    - zastosowania stratify\n",
    "    - nie usuwania duplikatow\n",
    "    - wiekszych probek danych\n",
    "    - innych random_seed\n",
    "3. Model mimo wszystko jest dosc przypadkowa reprezentacja ale osiaga krzywa ROC 0.69 (zdarzaly sie wyniki 0.73 lecz nie udalo sie powtorzyc)\n",
    "\n",
    "4. Dane kategorialne przygotowane sa z pomoca Label Encoding. \n",
    "\n",
    "5. Lista kolumn w modelu: 'Chrom', 'Pos', '1000gp_EUR_freq', 'target_num', 'MHD_count',\n",
    "       'MHD_min3', 'frequency1%', 'is_silent_mutation', 'is_malicious',\n",
    "       'is_homozygot', 'is_pathogenic', 'selected_genes_teeth',\n",
    "       'Gene_Name_encoded', 'Ref_encoded', 'Annotated_allel_encoded',\n",
    "       'reference_amino_acid_encoded', 'mutated_amino_acid_encoded'\n",
    "\n",
    "6. Dane sa przefiltrowane z pomoca funkcji: find_patho_genes_df(df, MHD_min3=True, freq_threshold=0.05, silent_mutation=False, malicious=True). \n",
    "\n",
    "Classification Report:\n",
    "              precision    recall  f1-score   support\n",
    "\n",
    "           0       0.72      0.63      0.67       104\n",
    "           1       0.60      0.68      0.64        82\n",
    "\n",
    "    accuracy                           0.66       186\n",
    "   macro avg       0.66      0.66      0.65       186\n",
    "weighted avg       0.66      0.66      0.66       186"
   ]
  },
  {
   "cell_type": "markdown",
   "metadata": {},
   "source": [
    "Kolumny istotne dla predykcji w kolejnosci od najwazniejszej:\n",
    "1. Position\n",
    "2. Gene Name\n",
    "3. mutated amino acid\n",
    "4. Chromosom\n",
    "5. reference amino acid\n",
    "6. 1000gp_eur_freq\n",
    "7. MHD_cound\n",
    "8. ref_encoded\n",
    "9. annotated_allel_encoded\n",
    "10. is_homozygot\n"
   ]
  },
  {
   "cell_type": "markdown",
   "metadata": {},
   "source": [
    "# Sample ID"
   ]
  },
  {
   "cell_type": "markdown",
   "metadata": {},
   "source": [
    "W poczatkowej fazie, modele dla cleft palate uwzglednialy sample_id mimo wskazowek by zrezygnowac z tej praktyki. Modele te osiagaly bardzo wysokie wyniki lub przeuczaly sie"
   ]
  },
  {
   "cell_type": "markdown",
   "metadata": {},
   "source": [
    "# Podobny model dla Cleft"
   ]
  },
  {
   "cell_type": "markdown",
   "metadata": {},
   "source": [
    "Znacznie bardziej przypadkowy.\n",
    "Zasadne jest stworzenie nowego modelu dla tej choroby.\n",
    "\n",
    "- model: ten sam:Random FOrest\n",
    "rf_classifier = RandomForestClassifier(n_estimators=2000, max_depth=6, min_samples_split=2, min_samples_leaf=2, max_features='sqrt', random_state=42)\n",
    "- downsampling: yes\n",
    "- stratify: yes\n",
    "- imbalanced class: yes randum undersampler\n",
    "- cross validation yes\n",
    "\n",
    "\n",
    "- Cross-validation F1 scores: [0.54205607 0.62295082 0.61946903 0.59130435]\n",
    "Mean F1 score: 0.5939450672033115\n",
    "Classification Report:\n",
    "              precision    recall  f1-score   support\n",
    "\n",
    "           0       0.54      0.53      0.53        97\n",
    "           1       0.54      0.56      0.55        97\n",
    "\n",
    "    accuracy                           0.54       194\n",
    "   macro avg       0.54      0.54      0.54       194\n",
    "weighted avg       0.54      0.54      0.54       194"
   ]
  },
  {
   "cell_type": "markdown",
   "metadata": {},
   "source": [
    "# One Hot Encoding "
   ]
  },
  {
   "cell_type": "markdown",
   "metadata": {},
   "source": [
    "Rozne testy na ohe na roznych kolumnach:\n",
    "1. Mutated amino acid - w feature importance znaczenia nabiera:\n",
    "    - mutated Ser\n",
    "    - mutated Cys\n",
    "2. Reference Amino Acid  -  w feature importance znaczenia nabiera:\n",
    "    - ref Arg\n",
    "    - ref Gly\n",
    "3. Chromoson\n",
    "    - chrom 1\n",
    "    - chrom 5\n",
    "4. Gene + Chrom + Ref + Mut Amino w kolejnosci waznosci:\n",
    "    - gen WNT10A\n",
    "    - ref Amino Gly\n",
    "    - Chrom 22\n",
    "    - ref Amino Ser\n",
    "    - chrom 19\n",
    "    - gen UBR1\n",
    "    - gen JAG2\n",
    "    - gen NIPBL\n"
   ]
  }
 ],
 "metadata": {
  "kernelspec": {
   "display_name": "group8",
   "language": "python",
   "name": "python3"
  },
  "language_info": {
   "codemirror_mode": {
    "name": "ipython",
    "version": 3
   },
   "file_extension": ".py",
   "mimetype": "text/x-python",
   "name": "python",
   "nbconvert_exporter": "python",
   "pygments_lexer": "ipython3",
   "version": "3.11.0"
  }
 },
 "nbformat": 4,
 "nbformat_minor": 2
}
